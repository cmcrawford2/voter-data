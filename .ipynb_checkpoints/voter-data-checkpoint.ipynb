{
 "cells": [
  {
   "cell_type": "code",
   "execution_count": 1,
   "id": "6fe93279",
   "metadata": {},
   "outputs": [],
   "source": [
    "import zipfile\n",
    "import pandas as pd\n",
    "from google.cloud import storage"
   ]
  },
  {
   "cell_type": "code",
   "execution_count": 2,
   "id": "3917628b",
   "metadata": {},
   "outputs": [],
   "source": [
    "import os\n",
    "os.environ['GOOGLE_APPLICATION_CREDENTIALS'] = '/home/cris/.gc/keys.json'"
   ]
  },
  {
   "cell_type": "code",
   "execution_count": 3,
   "id": "6ccb73be",
   "metadata": {},
   "outputs": [
    {
     "name": "stdout",
     "output_type": "stream",
     "text": [
      "/home/cris/.gc/keys.json\n"
     ]
    }
   ],
   "source": [
    "google_application_credentials = os.environ.get('GOOGLE_APPLICATION_CREDENTIALS')\n",
    "print(google_application_credentials)"
   ]
  },
  {
   "cell_type": "code",
   "execution_count": 33,
   "id": "d589d664",
   "metadata": {},
   "outputs": [
    {
     "name": "stdout",
     "output_type": "stream",
     "text": [
      "Bucket: <Bucket: cris-voter-data>\n",
      "Blob: <Blob: cris-voter-data, voter_activity_20220828.zip, None>\n",
      "Downloaded zip file to: temp.zip\n",
      "Successfully extracted zip file contents.\n"
     ]
    }
   ],
   "source": [
    "# Initialize GCS client\n",
    "client = storage.Client()\n",
    "\n",
    "# Define GCS bucket and zip file path\n",
    "bucket_name = 'cris-voter-data'\n",
    "zip_file_path = 'voter_activity_20220828.zip'\n",
    "destination_path = 'temp.zip'\n",
    "\n",
    "try:\n",
    "    # Get the bucket\n",
    "    bucket = client.get_bucket(bucket_name)\n",
    "    print(\"Bucket:\", bucket)\n",
    "\n",
    "    # Get the blob (file) from the bucket\n",
    "    blob = bucket.blob(zip_file_path)\n",
    "    print(\"Blob:\", blob)\n",
    "\n",
    "    # Define the destination path for the downloaded file\n",
    "    destination_path = 'temp.zip'\n",
    "\n",
    "    # Download the blob's content and write it to a file\n",
    "    with open(destination_path, 'wb') as file:\n",
    "        blob.download_to_file(file)\n",
    "    \n",
    "    print(\"Downloaded zip file to:\", destination_path)\n",
    "\n",
    "    # Check if download was successful\n",
    "    if os.path.exists(destination_path):\n",
    "        # Extract the zip file\n",
    "        with zipfile.ZipFile(destination_path, 'r') as zip_ref:\n",
    "            zip_ref.extractall('extracted_files')\n",
    "        print(\"Successfully extracted zip file contents.\")\n",
    "    else:\n",
    "        print(\"Failed to download zip file.\")\n",
    "\n",
    "except Exception as e:\n",
    "    print(\"Error:\", e)\n"
   ]
  },
  {
   "cell_type": "code",
   "execution_count": null,
   "id": "f5cef27d",
   "metadata": {},
   "outputs": [],
   "source": []
  },
  {
   "cell_type": "code",
   "execution_count": 5,
   "id": "d908a210",
   "metadata": {},
   "outputs": [
    {
     "name": "stderr",
     "output_type": "stream",
     "text": [
      "/tmp/ipykernel_2083/4128763532.py:1: DtypeWarning: Columns (11,16,23) have mixed types. Specify dtype option on import or set low_memory=False.\n",
      "  df = pd.read_csv('extracted_files/001_voter_act.txt', delimiter='|')\n"
     ]
    }
   ],
   "source": [
    "df = pd.read_csv('extracted_files/001_voter_act.txt', delimiter='|')"
   ]
  },
  {
   "cell_type": "code",
   "execution_count": 6,
   "id": "b4974cf3",
   "metadata": {},
   "outputs": [
    {
     "data": {
      "text/plain": [
       "11/07/2006        object\n",
       "STATE ELECTION    object\n",
       "03FLA1466000      object\n",
       "DAVIS             object\n",
       "LISA              object\n",
       "M                 object\n",
       "Unnamed: 6        object\n",
       "45                 int64\n",
       "Unnamed: 8        object\n",
       "MAQUAN ST         object\n",
       "Unnamed: 10       object\n",
       "023411761         object\n",
       "HANSON            object\n",
       "U                 object\n",
       "Unnamed: 14       object\n",
       "1                  int64\n",
       "0                 object\n",
       "2                 object\n",
       "A                 object\n",
       "45 MAQUAN ST      object\n",
       "2                 object\n",
       "HANSON.1          object\n",
       "MA                object\n",
       "02341             object\n",
       "08/28/2022        object\n",
       "dtype: object"
      ]
     },
     "execution_count": 6,
     "metadata": {},
     "output_type": "execute_result"
    }
   ],
   "source": [
    "df.dtypes"
   ]
  },
  {
   "cell_type": "code",
   "execution_count": null,
   "id": "03fba09f",
   "metadata": {},
   "outputs": [],
   "source": [
    "# Read each text file into a DataFrame and write to Parquet format\n",
    "for file_name in zip_ref.namelist():\n",
    "    if file_name.endswith('.txt'):\n",
    "        df = pd.read_csv('extracted_files/' + file_name, delimiter='|')\n",
    "        # Process the data if needed\n",
    "        # Write DataFrame to Parquet format\n",
    "        df.to_parquet(file_name[:-4] + '.parquet', engine='pyarrow')\n",
    "\n",
    "# Upload Parquet files to GCS\n",
    "for file_name in zip_ref.namelist():\n",
    "    if file_name.endswith('.parquet'):\n",
    "        blob = bucket.blob('output/' + file_name[:-4] + '.parquet')\n",
    "        blob.upload_from_filename(file_name[:-4] + '.parquet')\n",
    "\n",
    "# Clean up temporary files\n",
    "import os\n",
    "os.remove(zip_file)\n",
    "for file_name in zip_ref.namelist():\n",
    "    if file_name.endswith('.parquet'):\n",
    "        os.remove(file_name[:-4] + '.parquet')\n"
   ]
  },
  {
   "cell_type": "code",
   "execution_count": null,
   "id": "0faaca2c",
   "metadata": {},
   "outputs": [],
   "source": []
  },
  {
   "cell_type": "code",
   "execution_count": null,
   "id": "251fccf7",
   "metadata": {},
   "outputs": [],
   "source": []
  },
  {
   "cell_type": "code",
   "execution_count": 3,
   "id": "dfa2722c",
   "metadata": {},
   "outputs": [
    {
     "ename": "AttributeError",
     "evalue": "'NoneType' object has no attribute 'seek'",
     "output_type": "error",
     "traceback": [
      "\u001b[0;31m---------------------------------------------------------------------------\u001b[0m",
      "\u001b[0;31mAttributeError\u001b[0m                            Traceback (most recent call last)",
      "Cell \u001b[0;32mIn[3], line 12\u001b[0m\n\u001b[1;32m     10\u001b[0m blob \u001b[38;5;241m=\u001b[39m bucket\u001b[38;5;241m.\u001b[39mblob(zip_file_path)\n\u001b[1;32m     11\u001b[0m zip_file \u001b[38;5;241m=\u001b[39m blob\u001b[38;5;241m.\u001b[39mdownload_to_filename(\u001b[38;5;124m'\u001b[39m\u001b[38;5;124mtemp.zip\u001b[39m\u001b[38;5;124m'\u001b[39m)\n\u001b[0;32m---> 12\u001b[0m \u001b[38;5;28;01mwith\u001b[39;00m zipfile\u001b[38;5;241m.\u001b[39mZipFile(zip_file, \u001b[38;5;124m'\u001b[39m\u001b[38;5;124mr\u001b[39m\u001b[38;5;124m'\u001b[39m) \u001b[38;5;28;01mas\u001b[39;00m zip_ref:\n\u001b[1;32m     13\u001b[0m     zip_ref\u001b[38;5;241m.\u001b[39mextractall(\u001b[38;5;124m'\u001b[39m\u001b[38;5;124mextracted_files\u001b[39m\u001b[38;5;124m'\u001b[39m)\n",
      "File \u001b[0;32m~/anaconda3/lib/python3.11/zipfile.py:1302\u001b[0m, in \u001b[0;36mZipFile.__init__\u001b[0;34m(self, file, mode, compression, allowZip64, compresslevel, strict_timestamps, metadata_encoding)\u001b[0m\n\u001b[1;32m   1300\u001b[0m \u001b[38;5;28;01mtry\u001b[39;00m:\n\u001b[1;32m   1301\u001b[0m     \u001b[38;5;28;01mif\u001b[39;00m mode \u001b[38;5;241m==\u001b[39m \u001b[38;5;124m'\u001b[39m\u001b[38;5;124mr\u001b[39m\u001b[38;5;124m'\u001b[39m:\n\u001b[0;32m-> 1302\u001b[0m         \u001b[38;5;28mself\u001b[39m\u001b[38;5;241m.\u001b[39m_RealGetContents()\n\u001b[1;32m   1303\u001b[0m     \u001b[38;5;28;01melif\u001b[39;00m mode \u001b[38;5;129;01min\u001b[39;00m (\u001b[38;5;124m'\u001b[39m\u001b[38;5;124mw\u001b[39m\u001b[38;5;124m'\u001b[39m, \u001b[38;5;124m'\u001b[39m\u001b[38;5;124mx\u001b[39m\u001b[38;5;124m'\u001b[39m):\n\u001b[1;32m   1304\u001b[0m         \u001b[38;5;66;03m# set the modified flag so central directory gets written\u001b[39;00m\n\u001b[1;32m   1305\u001b[0m         \u001b[38;5;66;03m# even if no files are added to the archive\u001b[39;00m\n\u001b[1;32m   1306\u001b[0m         \u001b[38;5;28mself\u001b[39m\u001b[38;5;241m.\u001b[39m_didModify \u001b[38;5;241m=\u001b[39m \u001b[38;5;28;01mTrue\u001b[39;00m\n",
      "File \u001b[0;32m~/anaconda3/lib/python3.11/zipfile.py:1365\u001b[0m, in \u001b[0;36mZipFile._RealGetContents\u001b[0;34m(self)\u001b[0m\n\u001b[1;32m   1363\u001b[0m fp \u001b[38;5;241m=\u001b[39m \u001b[38;5;28mself\u001b[39m\u001b[38;5;241m.\u001b[39mfp\n\u001b[1;32m   1364\u001b[0m \u001b[38;5;28;01mtry\u001b[39;00m:\n\u001b[0;32m-> 1365\u001b[0m     endrec \u001b[38;5;241m=\u001b[39m _EndRecData(fp)\n\u001b[1;32m   1366\u001b[0m \u001b[38;5;28;01mexcept\u001b[39;00m \u001b[38;5;167;01mOSError\u001b[39;00m:\n\u001b[1;32m   1367\u001b[0m     \u001b[38;5;28;01mraise\u001b[39;00m BadZipFile(\u001b[38;5;124m\"\u001b[39m\u001b[38;5;124mFile is not a zip file\u001b[39m\u001b[38;5;124m\"\u001b[39m)\n",
      "File \u001b[0;32m~/anaconda3/lib/python3.11/zipfile.py:292\u001b[0m, in \u001b[0;36m_EndRecData\u001b[0;34m(fpin)\u001b[0m\n\u001b[1;32m    286\u001b[0m \u001b[38;5;250m\u001b[39m\u001b[38;5;124;03m\"\"\"Return data from the \"End of Central Directory\" record, or None.\u001b[39;00m\n\u001b[1;32m    287\u001b[0m \n\u001b[1;32m    288\u001b[0m \u001b[38;5;124;03mThe data is a list of the nine items in the ZIP \"End of central dir\"\u001b[39;00m\n\u001b[1;32m    289\u001b[0m \u001b[38;5;124;03mrecord followed by a tenth item, the file seek offset of this record.\"\"\"\u001b[39;00m\n\u001b[1;32m    291\u001b[0m \u001b[38;5;66;03m# Determine file size\u001b[39;00m\n\u001b[0;32m--> 292\u001b[0m fpin\u001b[38;5;241m.\u001b[39mseek(\u001b[38;5;241m0\u001b[39m, \u001b[38;5;241m2\u001b[39m)\n\u001b[1;32m    293\u001b[0m filesize \u001b[38;5;241m=\u001b[39m fpin\u001b[38;5;241m.\u001b[39mtell()\n\u001b[1;32m    295\u001b[0m \u001b[38;5;66;03m# Check to see if this is ZIP file with no archive comment (the\u001b[39;00m\n\u001b[1;32m    296\u001b[0m \u001b[38;5;66;03m# \"end of central directory\" structure should be the last item in the\u001b[39;00m\n\u001b[1;32m    297\u001b[0m \u001b[38;5;66;03m# file if this is the case).\u001b[39;00m\n",
      "\u001b[0;31mAttributeError\u001b[0m: 'NoneType' object has no attribute 'seek'"
     ]
    }
   ],
   "source": [
    "\n"
   ]
  }
 ],
 "metadata": {
  "kernelspec": {
   "display_name": "Python 3 (ipykernel)",
   "language": "python",
   "name": "python3"
  },
  "language_info": {
   "codemirror_mode": {
    "name": "ipython",
    "version": 3
   },
   "file_extension": ".py",
   "mimetype": "text/x-python",
   "name": "python",
   "nbconvert_exporter": "python",
   "pygments_lexer": "ipython3",
   "version": "3.11.5"
  }
 },
 "nbformat": 4,
 "nbformat_minor": 5
}
