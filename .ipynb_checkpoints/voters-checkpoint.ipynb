{
 "cells": [
  {
   "cell_type": "markdown",
   "id": "f4d014be",
   "metadata": {},
   "source": [
    "# voters - data engineering class project 2024\n",
    "### cris crawford\n",
    "This is a python file to read in about 1G of voter data that includes all registered voters in Massachusetts. The purpose is to write it into a Google cloud bucket."
   ]
  },
  {
   "cell_type": "code",
   "execution_count": 2,
   "id": "2b4e0726",
   "metadata": {},
   "outputs": [],
   "source": [
    "import zipfile\n",
    "import pandas as pd\n",
    "from google.cloud import storage"
   ]
  },
  {
   "cell_type": "code",
   "execution_count": 3,
   "id": "7d1b675e",
   "metadata": {},
   "outputs": [],
   "source": [
    "import os\n",
    "os.environ['GOOGLE_APPLICATION_CREDENTIALS'] = '/home/cris/.gc/keys.json'"
   ]
  },
  {
   "cell_type": "markdown",
   "id": "16ff98fc",
   "metadata": {},
   "source": [
    "### Here we're reading the file in from a Google cloud bucket and unzipping it."
   ]
  },
  {
   "cell_type": "code",
   "execution_count": 3,
   "id": "716816f2",
   "metadata": {},
   "outputs": [
    {
     "name": "stdout",
     "output_type": "stream",
     "text": [
      "Bucket: <Bucket: cris-voter-data>\n",
      "Blob: <Blob: cris-voter-data, voter_extract_20220828.zip, None>\n",
      "Downloaded zip file to: temp2.zip\n",
      "Successfully extracted zip file contents.\n"
     ]
    }
   ],
   "source": [
    "# Initialize GCS client\n",
    "client = storage.Client()\n",
    "\n",
    "# Define GCS bucket and zip file path\n",
    "bucket_name = 'cris-voter-data'\n",
    "zip_file_path = 'voter_extract_20220828.zip'\n",
    "destination_path = 'temp2.zip'\n",
    "\n",
    "try:\n",
    "    # Get the bucket\n",
    "    bucket = client.get_bucket(bucket_name)\n",
    "    print(\"Bucket:\", bucket)\n",
    "\n",
    "    # Get the blob (file) from the bucket\n",
    "    blob = bucket.blob(zip_file_path)\n",
    "    print(\"Blob:\", blob)\n",
    "\n",
    "    # Download the blob's content and write it to a file\n",
    "    with open(destination_path, 'wb') as file:\n",
    "        blob.download_to_file(file)\n",
    "    \n",
    "    print(\"Downloaded zip file to:\", destination_path)\n",
    "\n",
    "    # Check if download was successful\n",
    "    if os.path.exists(destination_path):\n",
    "        # Extract the zip file\n",
    "        with zipfile.ZipFile(destination_path, 'r') as zip_ref:\n",
    "            zip_ref.extractall('extracted_voter')\n",
    "        print(\"Successfully extracted zip file contents.\")\n",
    "    else:\n",
    "        print(\"Failed to download zip file.\")\n",
    "\n",
    "except Exception as e:\n",
    "    print(\"Error:\", e)\n"
   ]
  },
  {
   "cell_type": "markdown",
   "id": "034600a9",
   "metadata": {},
   "source": [
    "### Here, I'm defining a schema. 'tmp' variables are names and addresses and will not be read into parquet."
   ]
  },
  {
   "cell_type": "code",
   "execution_count": 4,
   "id": "8ceb35c9",
   "metadata": {},
   "outputs": [],
   "source": [
    "schema = {\n",
    "  'city_code': 'int32',\n",
    "  'city_name': 'object',\n",
    "  'county_name': 'object',\n",
    "  'voter_id': 'object',\n",
    "  'tmp1': 'object',\n",
    "  'tmp2': 'object',\n",
    "  'tmp3': 'object',\n",
    "  'tmp4': 'object',\n",
    "  'tmp5': 'object',\n",
    "  'tmp6': 'object',\n",
    "  'tmp7': 'object',\n",
    "  'tmp8': 'object',\n",
    "  'zip': 'object',\n",
    "  'tmp9': 'object',\n",
    "  'tmp10': 'object',\n",
    "  'tmp11': 'object',\n",
    "  'tmp12': 'object',\n",
    "  'tmp13': 'object',\n",
    "  'party_affiliation': 'object',\n",
    "  'tmp14': 'object',\n",
    "  'tmp15': 'object',\n",
    "  'tmp16': 'object',\n",
    "  'ward': 'object',\n",
    "  'precinct': 'object',\n",
    "  'congressional_district': 'int32',\n",
    "  'senatorial_district': 'int32',\n",
    "  'state_rep_district': 'int32',\n",
    "  'voter_status': 'object'\n",
    "}"
   ]
  },
  {
   "cell_type": "markdown",
   "id": "ad575025",
   "metadata": {},
   "source": [
    "### Now I'm reading in the files and writing them out to parquet, and moving them back to the Google cloud bucket."
   ]
  },
  {
   "cell_type": "code",
   "execution_count": 8,
   "id": "dad72463",
   "metadata": {},
   "outputs": [],
   "source": [
    "bucket_name = 'cris-voter-data'\n",
    "client = storage.Client()\n",
    "bucket = client.get_bucket(bucket_name)\n",
    "\n",
    "selected_columns=['city_code', 'city_name', 'county_name', 'voter_id', 'zip', 'party_affiliation', 'ward', 'precinct', 'congressional_district', 'senatorial_district', 'state_rep_district', 'voter_status']\n",
    "\n",
    "def csv_to_parquet(filename):\n",
    "    df = pd.read_csv('extracted_voter/' + filename, delimiter=',', names=list(schema.keys()), dtype=schema)\n",
    "    new_df = df[selected_columns]\n",
    "    new_df.to_parquet(filename[:-4] + '.parquet', engine='pyarrow')\n",
    "    blob = bucket.blob('voter_output/' + filename[:-4] + '.parquet')\n",
    "    blob.upload_from_filename(filename[:-4] + '.parquet')\n",
    "    print(filename, len(new_df))"
   ]
  },
  {
   "cell_type": "code",
   "execution_count": 9,
   "id": "e5938c13",
   "metadata": {},
   "outputs": [
    {
     "name": "stdout",
     "output_type": "stream",
     "text": [
      "voter001.csv 591286\n",
      "voter002.csv 762552\n",
      "voter003.csv 634527\n",
      "voter004.csv 765429\n",
      "voter005.csv 731690\n",
      "voter006.csv 759911\n",
      "voter007.csv 593821\n"
     ]
    }
   ],
   "source": [
    "csv_to_parquet('voter001.csv')\n",
    "csv_to_parquet('voter002.csv')\n",
    "csv_to_parquet('voter003.csv')\n",
    "csv_to_parquet('voter004.csv')\n",
    "csv_to_parquet('voter005.csv')\n",
    "csv_to_parquet('voter006.csv')\n",
    "csv_to_parquet('voter007.csv')"
   ]
  },
  {
   "cell_type": "markdown",
   "id": "b30bdd0d",
   "metadata": {},
   "source": [
    "### clean up"
   ]
  },
  {
   "cell_type": "code",
   "execution_count": 10,
   "id": "30d4d31f",
   "metadata": {},
   "outputs": [],
   "source": [
    "!rm *.parquet"
   ]
  }
 ],
 "metadata": {
  "kernelspec": {
   "display_name": "Python 3 (ipykernel)",
   "language": "python",
   "name": "python3"
  },
  "language_info": {
   "codemirror_mode": {
    "name": "ipython",
    "version": 3
   },
   "file_extension": ".py",
   "mimetype": "text/x-python",
   "name": "python",
   "nbconvert_exporter": "python",
   "pygments_lexer": "ipython3",
   "version": "3.11.5"
  }
 },
 "nbformat": 4,
 "nbformat_minor": 5
}
